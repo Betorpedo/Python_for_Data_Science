{
 "cells": [
  {
   "attachments": {},
   "cell_type": "markdown",
   "metadata": {},
   "source": [
    "# Sort List and Tuples"
   ]
  },
  {
   "cell_type": "code",
   "execution_count": 45,
   "metadata": {},
   "outputs": [
    {
     "name": "stdout",
     "output_type": "stream",
     "text": [
      "----------Tuple-----------\n",
      "<class 'tuple'>\n",
      "[-2, 1, 3, 4, 5]\n",
      "[5, 4, 3, 1, -2]\n",
      "(3, 1, 4, 5, -2)\n",
      "----------List-----------\n",
      "<class 'list'>\n",
      "[3, 1, 4, 5, -2]\n",
      "[5, 4, 3, 1, -2]\n",
      "[-2, 1, 3, 4, 5]\n"
     ]
    }
   ],
   "source": [
    "print(\"----------Tuple-----------\")\n",
    "t = (3, 1, 4, 5, -2)\n",
    "print(type(t))\n",
    "t_sorted = sorted(t)\n",
    "print(t_sorted)\n",
    "t_sorted = sorted(t,reverse=True)\n",
    "print(t_sorted)\n",
    "# [1, 2, 3, 4, 5]\n",
    "\n",
    "print(t)\n",
    "# (3, 1, 4, 5, 2)\n",
    "\n",
    "print(\"----------List-----------\")\n",
    "l = [3, 1, 4, 5, -2]\n",
    "print(type(l))\n",
    "print(l)\n",
    "l.sort(reverse=True)\n",
    "print(l)\n",
    "l.sort(reverse=False)\n",
    "print(l)"
   ]
  },
  {
   "attachments": {},
   "cell_type": "markdown",
   "metadata": {},
   "source": [
    "# add to tuple and list"
   ]
  },
  {
   "cell_type": "code",
   "execution_count": 6,
   "metadata": {},
   "outputs": [
    {
     "name": "stdout",
     "output_type": "stream",
     "text": [
      "----tuple----\n",
      "(1, 2, 3, 4)\n",
      "----list----\n",
      "[1, 2, 3, 4]\n",
      "[1, 2, 3, 4, [4]]\n",
      "[1, 2, 3, 4, [4], 5, 6]\n",
      "[1, 2, 3, 4, [4], 5, 6, 5, 6]\n",
      "[2, 3, 4, [4], 5, 6, 5, 6]\n",
      "[3, 4, [4], 5, 6, 5, 6]\n"
     ]
    }
   ],
   "source": [
    "print(\"----tuple----\") #cant change a tuple it is inmutable\n",
    "tu=(1,2,3)\n",
    "tu2=tu + (4,)\n",
    "print(tu2)\n",
    "\n",
    "print(\"----list----\") # lists can be extended\n",
    "li=[1,2,3]\n",
    "li.append((4)) #add a new element, list, tuple \n",
    "print(li)\n",
    "li.append([4]) #add a new element, Nasted list\n",
    "print(li)\n",
    "li.extend([5,6])# add an iterable element\n",
    "print(li)\n",
    "li.extend((5,6))# same as previous add an iterable element\n",
    "print(li)\n",
    "li.pop(0)# delete by index\n",
    "print(li)\n",
    "li.remove(2) # delete by value occurrence\n",
    "print(li)"
   ]
  },
  {
   "attachments": {},
   "cell_type": "markdown",
   "metadata": {},
   "source": [
    "# Change the element based on the index"
   ]
  },
  {
   "cell_type": "code",
   "execution_count": 7,
   "metadata": {},
   "outputs": [
    {
     "name": "stdout",
     "output_type": "stream",
     "text": [
      "Before change: ['disco', 10, 1.2]\n",
      "After change: ['hard rock', 10, 1.2]\n"
     ]
    }
   ],
   "source": [
    "A = [\"disco\", 10, 1.2]\n",
    "print('Before change:', A)\n",
    "A[0] = 'hard rock'\n",
    "print('After change:', A)"
   ]
  },
  {
   "attachments": {},
   "cell_type": "markdown",
   "metadata": {},
   "source": [
    "# Delete the element based on the index\n"
   ]
  },
  {
   "cell_type": "code",
   "execution_count": 8,
   "metadata": {},
   "outputs": [
    {
     "name": "stdout",
     "output_type": "stream",
     "text": [
      "Before change: ['hard rock', 10, 1.2]\n",
      "After change: [10, 1.2]\n"
     ]
    }
   ],
   "source": [
    "\n",
    "print('Before change:', A)\n",
    "del(A[0])\n",
    "print('After change:', A)"
   ]
  },
  {
   "attachments": {},
   "cell_type": "markdown",
   "metadata": {},
   "source": [
    "# Split the string, default is by space\n",
    "\n"
   ]
  },
  {
   "cell_type": "code",
   "execution_count": 14,
   "metadata": {},
   "outputs": [
    {
     "name": "stdout",
     "output_type": "stream",
     "text": [
      "['hard', 'rock']\n",
      "hard\n"
     ]
    }
   ],
   "source": [
    "str='hard rock'\n",
    "ls1=str.split()\n",
    "print(ls1)\n",
    "\n",
    "print(str.split()[0])"
   ]
  },
  {
   "attachments": {},
   "cell_type": "markdown",
   "metadata": {},
   "source": [
    "# Copy (copy by reference) the list A\n",
    "both lists are pointintg to the same list in memory"
   ]
  },
  {
   "cell_type": "code",
   "execution_count": 15,
   "metadata": {},
   "outputs": [
    {
     "name": "stdout",
     "output_type": "stream",
     "text": [
      "A: ['hard rock', 10, 1.2]\n",
      "B: ['hard rock', 10, 1.2]\n",
      "New A: ['hard rock', 'X', 1.2]\n",
      "New B: ['hard rock', 'X', 1.2]\n"
     ]
    }
   ],
   "source": [
    "A = [\"hard rock\", 10, 1.2]\n",
    "B = A\n",
    "print('A:', A)\n",
    "print('B:', B)\n",
    "B[1]=\"X\"\n",
    "print('New A:', A)\n",
    "print('New B:', B)"
   ]
  },
  {
   "attachments": {},
   "cell_type": "markdown",
   "metadata": {},
   "source": [
    "# Clone (clone by value) the list A\n",
    "changes are afecting only the target list"
   ]
  },
  {
   "cell_type": "code",
   "execution_count": 20,
   "metadata": {},
   "outputs": [
    {
     "name": "stdout",
     "output_type": "stream",
     "text": [
      "['hard rock', 'X', 1.2]\n",
      "['hard rock', 'X', 1.2]\n",
      "['hard rock', 'X', 1.2]\n",
      "['hard rock', 'aja', 1.2]\n"
     ]
    }
   ],
   "source": [
    "B = A[:]\n",
    "B\n",
    "\n",
    "print(A)\n",
    "print(B)\n",
    "B[1]=\"aja\"\n",
    "print(A)\n",
    "print(B)"
   ]
  }
 ],
 "metadata": {
  "kernelspec": {
   "display_name": "base",
   "language": "python",
   "name": "python3"
  },
  "language_info": {
   "codemirror_mode": {
    "name": "ipython",
    "version": 3
   },
   "file_extension": ".py",
   "mimetype": "text/x-python",
   "name": "python",
   "nbconvert_exporter": "python",
   "pygments_lexer": "ipython3",
   "version": "3.9.13"
  },
  "orig_nbformat": 4
 },
 "nbformat": 4,
 "nbformat_minor": 2
}
