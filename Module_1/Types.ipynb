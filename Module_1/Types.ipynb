{
 "cells": [
  {
   "attachments": {},
   "cell_type": "markdown",
   "metadata": {},
   "source": [
    "Types"
   ]
  },
  {
   "attachments": {},
   "cell_type": "markdown",
   "metadata": {},
   "source": [
    "What is the type of the following: int(1.0)?"
   ]
  },
  {
   "cell_type": "code",
   "execution_count": 1,
   "metadata": {},
   "outputs": [
    {
     "data": {
      "text/plain": [
       "1"
      ]
     },
     "execution_count": 1,
     "metadata": {},
     "output_type": "execute_result"
    }
   ],
   "source": [
    "#it cast 1.0 to int\n",
    "int(1.0)"
   ]
  },
  {
   "attachments": {},
   "cell_type": "markdown",
   "metadata": {},
   "source": [
    "Enter the code to convert the number 1 to a Boolean."
   ]
  },
  {
   "cell_type": "code",
   "execution_count": 12,
   "metadata": {},
   "outputs": [
    {
     "name": "stdout",
     "output_type": "stream",
     "text": [
      "1 to bool: True\n",
      "0 to bool: False\n",
      "1 to float: 1.0\n",
      "1.6 to int: 1\n",
      "1.1 to int: 1\n"
     ]
    }
   ],
   "source": [
    "#Cast 1 to True, 0 to False\n",
    "val1=bool(1)\n",
    "val2=bool(0)\n",
    "print(\"1 to bool:\" , val1)\n",
    "print(\"0 to bool:\" , val2)\n",
    "\n",
    "val3=float(1)\n",
    "print(\"1 to float:\" , val3)\n",
    "\n",
    "val4=int(1.6)\n",
    "print(\"1.6 to int:\" , val4)\n",
    "\n",
    "val5=int(1.1)\n",
    "print(\"1.1 to int:\" , val5)\n"
   ]
  }
 ],
 "metadata": {
  "kernelspec": {
   "display_name": "base",
   "language": "python",
   "name": "python3"
  },
  "language_info": {
   "codemirror_mode": {
    "name": "ipython",
    "version": 3
   },
   "file_extension": ".py",
   "mimetype": "text/x-python",
   "name": "python",
   "nbconvert_exporter": "python",
   "pygments_lexer": "ipython3",
   "version": "3.9.13"
  },
  "orig_nbformat": 4
 },
 "nbformat": 4,
 "nbformat_minor": 2
}
